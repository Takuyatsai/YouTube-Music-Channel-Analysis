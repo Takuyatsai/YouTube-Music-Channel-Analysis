{
 "cells": [
  {
   "cell_type": "code",
   "execution_count": 1,
   "id": "e7ff024d",
   "metadata": {},
   "outputs": [],
   "source": [
    "from googleapiclient.discovery import build\n",
    "import pandas as pd\n",
    "import numpy as np\n",
    "import matplotlib.pyplot as plt"
   ]
  },
  {
   "cell_type": "code",
   "execution_count": 2,
   "id": "b75ff1e9",
   "metadata": {},
   "outputs": [],
   "source": [
    "api_service_name = \"youtube\"\n",
    "api_version = \"v3\"\n",
    "\n",
    "api_key = '你的金鑰'\n",
    "channel_id = 'UCln9P4Qm3-EAY4aiEPmRwEA'\n",
    "\n",
    "youtube = build(api_service_name, api_version, developerKey = api_key)"
   ]
  },
  {
   "cell_type": "code",
   "execution_count": 3,
   "id": "81dfb516",
   "metadata": {},
   "outputs": [],
   "source": [
    "def get_channel_stats(youtube, channel_ids):\n",
    "    all_data = []\n",
    "    request = youtube.channels().list(\n",
    "                part=\"snippet,contentDetails,statistics,topicDetails,brandingSettings,contentOwnerDetails,localizations\",\n",
    "                id= channel_ids)\n",
    "    response = request.execute()\n",
    "    \n",
    "    for i in range(len(response['items'])):\n",
    "        data = dict(Channel_name = response['items'][i]['snippet']['title'], # 頻道名稱\n",
    "                    Description = response['items'][i]['snippet']['description'], # 頻道介紹\n",
    "                    Published = response['items'][i]['snippet']['publishedAt'], # 頻道創建日期\n",
    "                    Country = response['items'][i]['snippet']['country'], # 頻道位置\n",
    "                    Subscribers = response['items'][i]['statistics']['subscriberCount'], # 訂閱人數\n",
    "                    Views = response['items'][i]['statistics']['viewCount'], # 總觀看人數\n",
    "                    Playlist = response['items'][i]['contentDetails']['relatedPlaylists']['uploads'], # 總上傳影片id\n",
    "                    VideoCount = response['items'][i]['statistics']['videoCount'], # 頻道數量\n",
    "                    Channel_topic = response['items'][i]['topicDetails']['topicCategories'], # 頻道類型\n",
    "                    Image = response['items'][i]['snippet']['thumbnails']['high']['url'], # 頻道圖片\n",
    "                    Keywords = '')\n",
    "        if 'keywords' not in response['items'][i]['brandingSettings']['channel']:\n",
    "            data['Keywords'] == ''\n",
    "        else:\n",
    "            data['Keywords'] = response['items'][i]['brandingSettings']['channel']['keywords']\n",
    "        all_data.append(data)\n",
    "    return all_data"
   ]
  },
  {
   "cell_type": "code",
   "execution_count": 4,
   "id": "fc1808fe",
   "metadata": {},
   "outputs": [
    {
     "data": {
      "text/plain": [
       "[{'Channel_name': 'Ado',\n",
       "  'Description': '元気です。',\n",
       "  'Published': '2018-08-18T02:02:50Z',\n",
       "  'Country': 'JP',\n",
       "  'Subscribers': '3970000',\n",
       "  'Views': '1376983894',\n",
       "  'Playlist': 'UUln9P4Qm3-EAY4aiEPmRwEA',\n",
       "  'VideoCount': '80',\n",
       "  'Channel_topic': ['https://en.wikipedia.org/wiki/Music_of_Asia',\n",
       "   'https://en.wikipedia.org/wiki/Pop_music',\n",
       "   'https://en.wikipedia.org/wiki/Music',\n",
       "   'https://en.wikipedia.org/wiki/Rock_music',\n",
       "   'https://en.wikipedia.org/wiki/Electronic_music',\n",
       "   'https://en.wikipedia.org/wiki/Independent_music'],\n",
       "  'Image': 'https://yt3.ggpht.com/I3ckNVLPQq04aQklOnRctTEnBjf7pkppVLV7WYe4Nb4g3sge1h-2IlXAvLnRGgrMkMfL4NadPQ=s800-c-k-c0x00ffffff-no-nd-rj',\n",
       "  'Keywords': 'アド あぼ ado \"アド 歌い手\" ADO Ado \"Ado TikTok\" \"アド ティックトック\" \"Ado 歌い手\" 歌い手 \"ado 邪魔\" エーディーオー エイド うっせぇわ USSEEWA うっせぇわ 会いたくて 踊 レディメイド 夜のピエロ ギラギラ よくばり Ayase'}]"
      ]
     },
     "execution_count": 4,
     "metadata": {},
     "output_type": "execute_result"
    }
   ],
   "source": [
    "ado_statistics = get_channel_stats(youtube, channel_id)\n",
    "ado_statistics"
   ]
  },
  {
   "cell_type": "code",
   "execution_count": 5,
   "id": "19a2408d",
   "metadata": {},
   "outputs": [
    {
     "data": {
      "text/html": [
       "<div>\n",
       "<style scoped>\n",
       "    .dataframe tbody tr th:only-of-type {\n",
       "        vertical-align: middle;\n",
       "    }\n",
       "\n",
       "    .dataframe tbody tr th {\n",
       "        vertical-align: top;\n",
       "    }\n",
       "\n",
       "    .dataframe thead th {\n",
       "        text-align: right;\n",
       "    }\n",
       "</style>\n",
       "<table border=\"1\" class=\"dataframe\">\n",
       "  <thead>\n",
       "    <tr style=\"text-align: right;\">\n",
       "      <th></th>\n",
       "      <th>Channel_name</th>\n",
       "      <th>Description</th>\n",
       "      <th>Published</th>\n",
       "      <th>Country</th>\n",
       "      <th>Subscribers</th>\n",
       "      <th>Views</th>\n",
       "      <th>Playlist</th>\n",
       "      <th>VideoCount</th>\n",
       "      <th>Channel_topic</th>\n",
       "      <th>Image</th>\n",
       "      <th>Keywords</th>\n",
       "    </tr>\n",
       "  </thead>\n",
       "  <tbody>\n",
       "    <tr>\n",
       "      <th>0</th>\n",
       "      <td>Ado</td>\n",
       "      <td>元気です。</td>\n",
       "      <td>2018-08-18T02:02:50Z</td>\n",
       "      <td>JP</td>\n",
       "      <td>3970000</td>\n",
       "      <td>1376983894</td>\n",
       "      <td>UUln9P4Qm3-EAY4aiEPmRwEA</td>\n",
       "      <td>80</td>\n",
       "      <td>[https://en.wikipedia.org/wiki/Music_of_Asia, ...</td>\n",
       "      <td>https://yt3.ggpht.com/I3ckNVLPQq04aQklOnRctTEn...</td>\n",
       "      <td>アド あぼ ado \"アド 歌い手\" ADO Ado \"Ado TikTok\" \"アド ティ...</td>\n",
       "    </tr>\n",
       "  </tbody>\n",
       "</table>\n",
       "</div>"
      ],
      "text/plain": [
       "  Channel_name Description             Published Country Subscribers  \\\n",
       "0          Ado       元気です。  2018-08-18T02:02:50Z      JP     3970000   \n",
       "\n",
       "        Views                  Playlist VideoCount  \\\n",
       "0  1376983894  UUln9P4Qm3-EAY4aiEPmRwEA         80   \n",
       "\n",
       "                                       Channel_topic  \\\n",
       "0  [https://en.wikipedia.org/wiki/Music_of_Asia, ...   \n",
       "\n",
       "                                               Image  \\\n",
       "0  https://yt3.ggpht.com/I3ckNVLPQq04aQklOnRctTEn...   \n",
       "\n",
       "                                            Keywords  \n",
       "0  アド あぼ ado \"アド 歌い手\" ADO Ado \"Ado TikTok\" \"アド ティ...  "
      ]
     },
     "execution_count": 5,
     "metadata": {},
     "output_type": "execute_result"
    }
   ],
   "source": [
    "ado_statistics_data = pd.DataFrame(ado_statistics)\n",
    "ado_statistics_data"
   ]
  },
  {
   "cell_type": "code",
   "execution_count": 6,
   "id": "f8e1cdc3",
   "metadata": {},
   "outputs": [
    {
     "data": {
      "text/plain": [
       "['https://en.wikipedia.org/wiki/Music_of_Asia',\n",
       " 'https://en.wikipedia.org/wiki/Pop_music',\n",
       " 'https://en.wikipedia.org/wiki/Music',\n",
       " 'https://en.wikipedia.org/wiki/Rock_music',\n",
       " 'https://en.wikipedia.org/wiki/Electronic_music',\n",
       " 'https://en.wikipedia.org/wiki/Independent_music']"
      ]
     },
     "execution_count": 6,
     "metadata": {},
     "output_type": "execute_result"
    }
   ],
   "source": [
    "ado_statistics_data['Channel_topic'][0]"
   ]
  },
  {
   "cell_type": "code",
   "execution_count": 7,
   "id": "7132e9a5",
   "metadata": {},
   "outputs": [
    {
     "data": {
      "text/html": [
       "<div>\n",
       "<style scoped>\n",
       "    .dataframe tbody tr th:only-of-type {\n",
       "        vertical-align: middle;\n",
       "    }\n",
       "\n",
       "    .dataframe tbody tr th {\n",
       "        vertical-align: top;\n",
       "    }\n",
       "\n",
       "    .dataframe thead th {\n",
       "        text-align: right;\n",
       "    }\n",
       "</style>\n",
       "<table border=\"1\" class=\"dataframe\">\n",
       "  <thead>\n",
       "    <tr style=\"text-align: right;\">\n",
       "      <th></th>\n",
       "      <th>Channel_name</th>\n",
       "      <th>Description</th>\n",
       "      <th>Published</th>\n",
       "      <th>Country</th>\n",
       "      <th>Subscribers</th>\n",
       "      <th>Views</th>\n",
       "      <th>Playlist</th>\n",
       "      <th>VideoCount</th>\n",
       "      <th>Channel_topic</th>\n",
       "      <th>Image</th>\n",
       "      <th>Keywords</th>\n",
       "    </tr>\n",
       "  </thead>\n",
       "  <tbody>\n",
       "    <tr>\n",
       "      <th>0</th>\n",
       "      <td>Ado</td>\n",
       "      <td>元気です。</td>\n",
       "      <td>2018-08-18T02:02:50Z</td>\n",
       "      <td>JP</td>\n",
       "      <td>3970000</td>\n",
       "      <td>1376983894</td>\n",
       "      <td>UUln9P4Qm3-EAY4aiEPmRwEA</td>\n",
       "      <td>80</td>\n",
       "      <td>[Music_of_Asia, Pop_music, Music, Rock_music, ...</td>\n",
       "      <td>https://yt3.ggpht.com/I3ckNVLPQq04aQklOnRctTEn...</td>\n",
       "      <td>アド あぼ ado \"アド 歌い手\" ADO Ado \"Ado TikTok\" \"アド ティ...</td>\n",
       "    </tr>\n",
       "  </tbody>\n",
       "</table>\n",
       "</div>"
      ],
      "text/plain": [
       "  Channel_name Description             Published Country Subscribers  \\\n",
       "0          Ado       元気です。  2018-08-18T02:02:50Z      JP     3970000   \n",
       "\n",
       "        Views                  Playlist VideoCount  \\\n",
       "0  1376983894  UUln9P4Qm3-EAY4aiEPmRwEA         80   \n",
       "\n",
       "                                       Channel_topic  \\\n",
       "0  [Music_of_Asia, Pop_music, Music, Rock_music, ...   \n",
       "\n",
       "                                               Image  \\\n",
       "0  https://yt3.ggpht.com/I3ckNVLPQq04aQklOnRctTEn...   \n",
       "\n",
       "                                            Keywords  \n",
       "0  アド あぼ ado \"アド 歌い手\" ADO Ado \"Ado TikTok\" \"アド ティ...  "
      ]
     },
     "execution_count": 7,
     "metadata": {},
     "output_type": "execute_result"
    }
   ],
   "source": [
    "def get_topic(df):\n",
    "    col = []\n",
    "    topic = []\n",
    "    for i in df['Channel_topic']:\n",
    "        if i == '':\n",
    "            col.append('')\n",
    "        else:\n",
    "            for j in range(len(i)):\n",
    "                topic.append(i[j].split('/')[4])\n",
    "            col.append(topic)\n",
    "            topic = []\n",
    "    df['Channel_topic'] = col\n",
    "    return df.head()\n",
    "get_topic(ado_statistics_data)"
   ]
  },
  {
   "cell_type": "code",
   "execution_count": 8,
   "id": "9b9fe601",
   "metadata": {},
   "outputs": [
    {
     "data": {
      "text/plain": [
       "Channel_name     object\n",
       "Description      object\n",
       "Published        object\n",
       "Country          object\n",
       "Subscribers       int64\n",
       "Views             int64\n",
       "Playlist         object\n",
       "VideoCount        int64\n",
       "Channel_topic    object\n",
       "Image            object\n",
       "Keywords         object\n",
       "dtype: object"
      ]
     },
     "execution_count": 8,
     "metadata": {},
     "output_type": "execute_result"
    }
   ],
   "source": [
    "ado_statistics_data['Subscribers'] = pd.to_numeric(ado_statistics_data['Subscribers'])\n",
    "ado_statistics_data['Views'] = pd.to_numeric(ado_statistics_data['Views'])\n",
    "ado_statistics_data['VideoCount'] = pd.to_numeric(ado_statistics_data['VideoCount'])\n",
    "ado_statistics_data.dtypes"
   ]
  },
  {
   "cell_type": "code",
   "execution_count": 14,
   "id": "709dbc7a",
   "metadata": {},
   "outputs": [
    {
     "data": {
      "image/png": "[encoded data removed]",
      "text/plain": [
       "<Figure size 288x432 with 1 Axes>"
      ]
     },
     "metadata": {
      "needs_background": "light"
     },
     "output_type": "display_data"
    }
   ],
   "source": [
    "x1 = ado_statistics_data['Channel_name']\n",
    "y1 = ado_statistics_data['Subscribers']\n",
    "plt.figure(figsize = (4,6))\n",
    "plt.bar(x1, y1, color='#5975a4')\n",
    "for a,b in zip(x1,y1):\n",
    "    plt.text(a, b+0.05, '%.0f' % b, ha='center', va= 'bottom',fontsize=20)\n",
    "plt.title('Subscribers',fontsize=20)\n",
    "plt.show()"
   ]
  },
  {
   "cell_type": "code",
   "execution_count": 15,
   "id": "2277536d",
   "metadata": {},
   "outputs": [
    {
     "data": {
      "image/png": "[encoded data removed]",
      "text/plain": [
       "<Figure size 288x432 with 1 Axes>"
      ]
     },
     "metadata": {
      "needs_background": "light"
     },
     "output_type": "display_data"
    }
   ],
   "source": [
    "x2 = ado_statistics_data['Channel_name']\n",
    "y2 = ado_statistics_data['Views']\n",
    "plt.figure(figsize = (4,6))\n",
    "plt.bar(x2, y2, color='#5975a4')\n",
    "for a,b in zip(x2,y2):\n",
    "    plt.text(a, b+0.05, '%.0f' % b, ha='center', va= 'bottom',fontsize=20)\n",
    "plt.title('Total Views',fontsize=20)\n",
    "plt.show()"
   ]
  },
  {
   "cell_type": "code",
   "execution_count": 16,
   "id": "25b7fe76",
   "metadata": {},
   "outputs": [
    {
     "data": {
      "image/png": "[encoded data removed]",
      "text/plain": [
       "<Figure size 288x432 with 1 Axes>"
      ]
     },
     "metadata": {
      "needs_background": "light"
     },
     "output_type": "display_data"
    }
   ],
   "source": [
    "x3 = ado_statistics_data['Channel_name']\n",
    "y3 = ado_statistics_data['VideoCount']\n",
    "plt.figure(figsize = (4,6))\n",
    "plt.bar(x3, y3, color='#5975a4')\n",
    "for a,b in zip(x3,y3):\n",
    "    plt.text(a, b+0.05, '%.0f' % b, ha='center', va= 'bottom',fontsize=20)\n",
    "plt.title('Total VideoCount',fontsize=20)\n",
    "plt.show()"
   ]
  },
  {
   "cell_type": "code",
   "execution_count": 18,
   "id": "5f544ab9",
   "metadata": {},
   "outputs": [],
   "source": [
    "ado_statistics_data.to_excel('YouTube API Practice01.xlsx')"
   ]
  }
 ],
 "metadata": {
  "kernelspec": {
   "display_name": "Python 3 (ipykernel)",
   "language": "python",
   "name": "python3"
  },
  "language_info": {
   "codemirror_mode": {
    "name": "ipython",
    "version": 3
   },
   "file_extension": ".py",
   "mimetype": "text/x-python",
   "name": "python",
   "nbconvert_exporter": "python",
   "pygments_lexer": "ipython3",
   "version": "3.9.13"
  }
 },
 "nbformat": 4,
 "nbformat_minor": 5
}
